{
  "nbformat": 4,
  "nbformat_minor": 0,
  "metadata": {
    "colab": {
      "name": "Tutorial_One.ipynb",
      "provenance": [],
      "toc_visible": true
    },
    "kernelspec": {
      "name": "python3",
      "display_name": "Python 3"
    }
  },
  "cells": [
    {
      "cell_type": "code",
      "metadata": {
        "id": "_9ejzAOzgHjf",
        "outputId": "c1aaa6de-7287-4959-d50b-c92c952d12d5",
        "colab": {
          "base_uri": "https://localhost:8080/"
        }
      },
      "source": [
        "import numpy as np  # import a package (numpy)\n",
        "import cv2  #  opencv\n",
        "\n",
        "#!pip list  # list all the packages that have been pre-installed\n",
        "\n",
        "!python --version  # show python version\n",
        "print(cv2.__version__)  # show opencv version\n",
        "print(np.__version__)  #show numpy version\n",
        "\n"
      ],
      "execution_count": 7,
      "outputs": [
        {
          "output_type": "stream",
          "name": "stdout",
          "text": [
            "Python 3.10.12\n",
            "4.8.0\n",
            "1.23.5\n"
          ]
        }
      ]
    },
    {
      "cell_type": "markdown",
      "metadata": {
        "id": "sz4hCIdqg4YK"
      },
      "source": [
        "# Test if a GPU is available"
      ]
    },
    {
      "cell_type": "code",
      "metadata": {
        "id": "PolOM-ilhHOt",
        "outputId": "a2fd2b54-8e0d-4dd2-b18c-3d081a780fb5",
        "colab": {
          "base_uri": "https://localhost:8080/",
          "height": 50
        }
      },
      "source": [
        "!nvidia-smi"
      ],
      "execution_count": null,
      "outputs": [
        {
          "output_type": "stream",
          "text": [
            "NVIDIA-SMI has failed because it couldn't communicate with the NVIDIA driver. Make sure that the latest NVIDIA driver is installed and running.\n",
            "\n"
          ],
          "name": "stdout"
        }
      ]
    },
    {
      "cell_type": "code",
      "metadata": {
        "id": "IhcZufTwe05u",
        "outputId": "6fb655fe-e0e7-4f9a-a953-d90f0514ee91",
        "colab": {
          "base_uri": "https://localhost:8080/",
          "height": 35
        }
      },
      "source": [
        "import tensorflow as tf\n",
        "tf.test.gpu_device_name()"
      ],
      "execution_count": 3,
      "outputs": [
        {
          "output_type": "execute_result",
          "data": {
            "text/plain": [
              "''"
            ],
            "application/vnd.google.colaboratory.intrinsic+json": {
              "type": "string"
            }
          },
          "metadata": {},
          "execution_count": 3
        }
      ]
    },
    {
      "cell_type": "markdown",
      "metadata": {
        "id": "0hBBMk0gCLT0"
      },
      "source": [
        "# Install a package/library"
      ]
    },
    {
      "cell_type": "code",
      "metadata": {
        "id": "8HV2QayTCPmw",
        "outputId": "eb99b45c-1cba-4071-adcb-2ba6ab4485ef",
        "colab": {
          "base_uri": "https://localhost:8080/",
          "height": 118
        }
      },
      "source": [
        "%pip install keras  # In fact, keras should have been pre-installed in Colab"
      ],
      "execution_count": null,
      "outputs": [
        {
          "output_type": "stream",
          "text": [
            "Requirement already satisfied: keras in /usr/local/lib/python3.6/dist-packages (2.4.3)\n",
            "Requirement already satisfied: numpy>=1.9.1 in /usr/local/lib/python3.6/dist-packages (from keras) (1.18.5)\n",
            "Requirement already satisfied: h5py in /usr/local/lib/python3.6/dist-packages (from keras) (2.10.0)\n",
            "Requirement already satisfied: pyyaml in /usr/local/lib/python3.6/dist-packages (from keras) (3.13)\n",
            "Requirement already satisfied: scipy>=0.14 in /usr/local/lib/python3.6/dist-packages (from keras) (1.4.1)\n",
            "Requirement already satisfied: six in /usr/local/lib/python3.6/dist-packages (from h5py->keras) (1.15.0)\n"
          ],
          "name": "stdout"
        }
      ]
    },
    {
      "cell_type": "markdown",
      "metadata": {
        "id": "57MCMDW_qkOD"
      },
      "source": [
        "# Basic data types\n"
      ]
    },
    {
      "cell_type": "code",
      "metadata": {
        "id": "bUGij7-uqo2Y",
        "outputId": "57350f1f-2d7c-4088-a480-7d531013cf71",
        "colab": {
          "base_uri": "https://localhost:8080/",
          "height": 67
        }
      },
      "source": [
        "x = 5  # int\n",
        "y = 1.5  # float\n",
        "z = True  # boolean\n",
        "print(type(x))\n",
        "print(type(y))\n",
        "print(type(z))"
      ],
      "execution_count": null,
      "outputs": [
        {
          "output_type": "stream",
          "text": [
            "<class 'int'>\n",
            "<class 'float'>\n",
            "<class 'bool'>\n"
          ],
          "name": "stdout"
        }
      ]
    },
    {
      "cell_type": "code",
      "metadata": {
        "id": "efts7RR5s5dD",
        "outputId": "9771adcf-4f6e-4da4-a082-522f32b61f0c",
        "colab": {
          "base_uri": "https://localhost:8080/",
          "height": 50
        }
      },
      "source": [
        "machine = 'machine'\n",
        "mv = machine + '_' + 'vision'  # concatenation of strings\n",
        "print(mv)\n",
        "print(type(mv))"
      ],
      "execution_count": null,
      "outputs": [
        {
          "output_type": "stream",
          "text": [
            "machine_vision\n",
            "<class 'str'>\n"
          ],
          "name": "stdout"
        }
      ]
    },
    {
      "cell_type": "markdown",
      "metadata": {
        "id": "braguy_ksSIp"
      },
      "source": [
        "* Please refer to some of the [useful string methods](https://docs.python.org/release/3.6.9/library/stdtypes.html#string-methods)"
      ]
    },
    {
      "cell_type": "markdown",
      "metadata": {
        "id": "f-sNeISotZ9W"
      },
      "source": [
        "# Lists, Dictionaries, Sets and Tuples"
      ]
    },
    {
      "cell_type": "code",
      "metadata": {
        "id": "BGwDdSnRshyu",
        "outputId": "c1d1cfe5-54e1-4adc-bfa3-2c8a36d78424",
        "colab": {
          "base_uri": "https://localhost:8080/",
          "height": 50
        }
      },
      "source": [
        "a = [1, 2, 3]\n",
        "b = ['x', 'y', 'z']\n",
        "a[1] = 'z'\n",
        "\n",
        "print(a)\n",
        "print(b)"
      ],
      "execution_count": null,
      "outputs": [
        {
          "output_type": "stream",
          "text": [
            "[1, 'z', 3]\n",
            "['x', 'y', 'z']\n"
          ],
          "name": "stdout"
        }
      ]
    },
    {
      "cell_type": "markdown",
      "metadata": {
        "id": "oHO6y0jRvQKC"
      },
      "source": [
        "* More on list [here](https://docs.python.org/release/3.6.9/tutorial/datastructures.html#more-on-lists)\n",
        "* Read about [Dictionaries](https://docs.python.org/release/3.6.9/library/stdtypes.html#mapping-types-dict), [Sets](https://docs.python.org/release/3.6.9/library/stdtypes.html#set-types-set-frozenset) and [Tuples](https://docs.python.org/release/3.6.9/library/stdtypes.html?highlight=tuple#tuples) yourself"
      ]
    },
    {
      "cell_type": "markdown",
      "metadata": {
        "id": "sknKkbX7y1RJ"
      },
      "source": [
        "# Numpy"
      ]
    },
    {
      "cell_type": "markdown",
      "metadata": {
        "id": "7toKl9JC-qo1"
      },
      "source": [
        "Create a numpy array"
      ]
    },
    {
      "cell_type": "code",
      "metadata": {
        "id": "NhqClaEGy3L_",
        "outputId": "c9f4c989-a9d1-44fa-b074-94d0693308b5",
        "colab": {
          "base_uri": "https://localhost:8080/"
        }
      },
      "source": [
        "a = np.arange(12)\n",
        "a1 = np.arange(2, 20, 3)  # Return evenly spaced values within a given interval.\n",
        "b = np.diag(a)  # Extract a diagonal or construct a diagonal array.\n",
        "print(a)\n",
        "print(a1)\n",
        "print(b)\n",
        "\n",
        "a2 = np.arange(1, 50, 2)\n",
        "b2 = np.diag(a2)\n",
        "print(b2)\n",
        "c=b2[3:24,3:24]\n",
        "print(c)\n",
        "d=np.scale"
      ],
      "execution_count": 8,
      "outputs": [
        {
          "output_type": "stream",
          "name": "stdout",
          "text": [
            "[ 0  1  2  3  4  5  6  7  8  9 10 11]\n",
            "[ 2  5  8 11 14 17]\n",
            "[[ 0  0  0  0  0  0  0  0  0  0  0  0]\n",
            " [ 0  1  0  0  0  0  0  0  0  0  0  0]\n",
            " [ 0  0  2  0  0  0  0  0  0  0  0  0]\n",
            " [ 0  0  0  3  0  0  0  0  0  0  0  0]\n",
            " [ 0  0  0  0  4  0  0  0  0  0  0  0]\n",
            " [ 0  0  0  0  0  5  0  0  0  0  0  0]\n",
            " [ 0  0  0  0  0  0  6  0  0  0  0  0]\n",
            " [ 0  0  0  0  0  0  0  7  0  0  0  0]\n",
            " [ 0  0  0  0  0  0  0  0  8  0  0  0]\n",
            " [ 0  0  0  0  0  0  0  0  0  9  0  0]\n",
            " [ 0  0  0  0  0  0  0  0  0  0 10  0]\n",
            " [ 0  0  0  0  0  0  0  0  0  0  0 11]]\n",
            "[[ 1  0  0  0  0  0  0  0  0  0  0  0  0  0  0  0  0  0  0  0  0  0  0  0\n",
            "   0]\n",
            " [ 0  3  0  0  0  0  0  0  0  0  0  0  0  0  0  0  0  0  0  0  0  0  0  0\n",
            "   0]\n",
            " [ 0  0  5  0  0  0  0  0  0  0  0  0  0  0  0  0  0  0  0  0  0  0  0  0\n",
            "   0]\n",
            " [ 0  0  0  7  0  0  0  0  0  0  0  0  0  0  0  0  0  0  0  0  0  0  0  0\n",
            "   0]\n",
            " [ 0  0  0  0  9  0  0  0  0  0  0  0  0  0  0  0  0  0  0  0  0  0  0  0\n",
            "   0]\n",
            " [ 0  0  0  0  0 11  0  0  0  0  0  0  0  0  0  0  0  0  0  0  0  0  0  0\n",
            "   0]\n",
            " [ 0  0  0  0  0  0 13  0  0  0  0  0  0  0  0  0  0  0  0  0  0  0  0  0\n",
            "   0]\n",
            " [ 0  0  0  0  0  0  0 15  0  0  0  0  0  0  0  0  0  0  0  0  0  0  0  0\n",
            "   0]\n",
            " [ 0  0  0  0  0  0  0  0 17  0  0  0  0  0  0  0  0  0  0  0  0  0  0  0\n",
            "   0]\n",
            " [ 0  0  0  0  0  0  0  0  0 19  0  0  0  0  0  0  0  0  0  0  0  0  0  0\n",
            "   0]\n",
            " [ 0  0  0  0  0  0  0  0  0  0 21  0  0  0  0  0  0  0  0  0  0  0  0  0\n",
            "   0]\n",
            " [ 0  0  0  0  0  0  0  0  0  0  0 23  0  0  0  0  0  0  0  0  0  0  0  0\n",
            "   0]\n",
            " [ 0  0  0  0  0  0  0  0  0  0  0  0 25  0  0  0  0  0  0  0  0  0  0  0\n",
            "   0]\n",
            " [ 0  0  0  0  0  0  0  0  0  0  0  0  0 27  0  0  0  0  0  0  0  0  0  0\n",
            "   0]\n",
            " [ 0  0  0  0  0  0  0  0  0  0  0  0  0  0 29  0  0  0  0  0  0  0  0  0\n",
            "   0]\n",
            " [ 0  0  0  0  0  0  0  0  0  0  0  0  0  0  0 31  0  0  0  0  0  0  0  0\n",
            "   0]\n",
            " [ 0  0  0  0  0  0  0  0  0  0  0  0  0  0  0  0 33  0  0  0  0  0  0  0\n",
            "   0]\n",
            " [ 0  0  0  0  0  0  0  0  0  0  0  0  0  0  0  0  0 35  0  0  0  0  0  0\n",
            "   0]\n",
            " [ 0  0  0  0  0  0  0  0  0  0  0  0  0  0  0  0  0  0 37  0  0  0  0  0\n",
            "   0]\n",
            " [ 0  0  0  0  0  0  0  0  0  0  0  0  0  0  0  0  0  0  0 39  0  0  0  0\n",
            "   0]\n",
            " [ 0  0  0  0  0  0  0  0  0  0  0  0  0  0  0  0  0  0  0  0 41  0  0  0\n",
            "   0]\n",
            " [ 0  0  0  0  0  0  0  0  0  0  0  0  0  0  0  0  0  0  0  0  0 43  0  0\n",
            "   0]\n",
            " [ 0  0  0  0  0  0  0  0  0  0  0  0  0  0  0  0  0  0  0  0  0  0 45  0\n",
            "   0]\n",
            " [ 0  0  0  0  0  0  0  0  0  0  0  0  0  0  0  0  0  0  0  0  0  0  0 47\n",
            "   0]\n",
            " [ 0  0  0  0  0  0  0  0  0  0  0  0  0  0  0  0  0  0  0  0  0  0  0  0\n",
            "  49]]\n",
            "[[ 7  0  0  0  0  0  0  0  0  0  0  0  0  0  0  0  0  0  0  0  0]\n",
            " [ 0  9  0  0  0  0  0  0  0  0  0  0  0  0  0  0  0  0  0  0  0]\n",
            " [ 0  0 11  0  0  0  0  0  0  0  0  0  0  0  0  0  0  0  0  0  0]\n",
            " [ 0  0  0 13  0  0  0  0  0  0  0  0  0  0  0  0  0  0  0  0  0]\n",
            " [ 0  0  0  0 15  0  0  0  0  0  0  0  0  0  0  0  0  0  0  0  0]\n",
            " [ 0  0  0  0  0 17  0  0  0  0  0  0  0  0  0  0  0  0  0  0  0]\n",
            " [ 0  0  0  0  0  0 19  0  0  0  0  0  0  0  0  0  0  0  0  0  0]\n",
            " [ 0  0  0  0  0  0  0 21  0  0  0  0  0  0  0  0  0  0  0  0  0]\n",
            " [ 0  0  0  0  0  0  0  0 23  0  0  0  0  0  0  0  0  0  0  0  0]\n",
            " [ 0  0  0  0  0  0  0  0  0 25  0  0  0  0  0  0  0  0  0  0  0]\n",
            " [ 0  0  0  0  0  0  0  0  0  0 27  0  0  0  0  0  0  0  0  0  0]\n",
            " [ 0  0  0  0  0  0  0  0  0  0  0 29  0  0  0  0  0  0  0  0  0]\n",
            " [ 0  0  0  0  0  0  0  0  0  0  0  0 31  0  0  0  0  0  0  0  0]\n",
            " [ 0  0  0  0  0  0  0  0  0  0  0  0  0 33  0  0  0  0  0  0  0]\n",
            " [ 0  0  0  0  0  0  0  0  0  0  0  0  0  0 35  0  0  0  0  0  0]\n",
            " [ 0  0  0  0  0  0  0  0  0  0  0  0  0  0  0 37  0  0  0  0  0]\n",
            " [ 0  0  0  0  0  0  0  0  0  0  0  0  0  0  0  0 39  0  0  0  0]\n",
            " [ 0  0  0  0  0  0  0  0  0  0  0  0  0  0  0  0  0 41  0  0  0]\n",
            " [ 0  0  0  0  0  0  0  0  0  0  0  0  0  0  0  0  0  0 43  0  0]\n",
            " [ 0  0  0  0  0  0  0  0  0  0  0  0  0  0  0  0  0  0  0 45  0]\n",
            " [ 0  0  0  0  0  0  0  0  0  0  0  0  0  0  0  0  0  0  0  0 47]]\n"
          ]
        }
      ]
    },
    {
      "cell_type": "markdown",
      "metadata": {
        "id": "hvht2r5L-u6B"
      },
      "source": [
        "Reshape a numpy array"
      ]
    },
    {
      "cell_type": "code",
      "metadata": {
        "id": "FfWVGvx8zOKf",
        "outputId": "76e30d2b-b623-4290-989c-e9d07a63db4d",
        "colab": {
          "base_uri": "https://localhost:8080/",
          "height": 101
        }
      },
      "source": [
        "a = a.reshape(3,4)\n",
        "print(a)\n",
        "print('The shape of the array is: ' + str(a.shape))\n",
        "print('The type of the elements: ' + a.dtype.name)"
      ],
      "execution_count": null,
      "outputs": [
        {
          "output_type": "stream",
          "text": [
            "[[ 0  1  2  3]\n",
            " [ 4  5  6  7]\n",
            " [ 8  9 10 11]]\n",
            "The shape of the array is: (3, 4)\n",
            "The type of the elements: int64\n"
          ],
          "name": "stdout"
        }
      ]
    },
    {
      "cell_type": "markdown",
      "metadata": {
        "id": "KgpQ8T6m_zxh"
      },
      "source": [
        "Add a number to all elements in an array"
      ]
    },
    {
      "cell_type": "code",
      "metadata": {
        "id": "-tGHE02k_3JI",
        "outputId": "616b5071-0b8e-420a-ebbd-9dcfd45886f6",
        "colab": {
          "base_uri": "https://localhost:8080/",
          "height": 67
        }
      },
      "source": [
        "a = a + 5\n",
        "print(a)"
      ],
      "execution_count": null,
      "outputs": [
        {
          "output_type": "stream",
          "text": [
            "[[ 5  6  7  8]\n",
            " [ 9 10 11 12]\n",
            " [13 14 15 16]]\n"
          ],
          "name": "stdout"
        }
      ]
    },
    {
      "cell_type": "markdown",
      "metadata": {
        "id": "ds-pMo65_7uJ"
      },
      "source": [
        "Slicing"
      ]
    },
    {
      "cell_type": "code",
      "metadata": {
        "id": "PXlY50ir5O7c",
        "outputId": "f5d23e25-59d2-4dce-be68-d0b8f7bbde76",
        "colab": {
          "base_uri": "https://localhost:8080/",
          "height": 34
        }
      },
      "source": [
        "c = a[0:2, 2]\n",
        "print(c)\n"
      ],
      "execution_count": null,
      "outputs": [
        {
          "output_type": "stream",
          "text": [
            "[ 7 11]\n"
          ],
          "name": "stdout"
        }
      ]
    },
    {
      "cell_type": "markdown",
      "metadata": {
        "id": "8pCIaWYHB0nP"
      },
      "source": [
        "* More on numpy [here](https://numpy.org/doc/1.18/reference/index.html)"
      ]
    }
  ]
}